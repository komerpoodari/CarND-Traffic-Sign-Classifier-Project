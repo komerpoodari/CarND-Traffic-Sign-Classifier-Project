{
 "cells": [
  {
   "cell_type": "markdown",
   "metadata": {},
   "source": [
    "# Self-Driving Car Engineer Nanodegree\n",
    "\n",
    "## Deep Learning\n",
    "\n",
    "## Project: Build a Traffic Sign Recognition Classifier\n",
    "\n",
    "In this notebook, a template is provided for you to implement your functionality in stages, which is required to successfully complete this project. If additional code is required that cannot be included in the notebook, be sure that the Python code is successfully imported and included in your submission if necessary. \n",
    "\n",
    "> **Note**: Once you have completed all of the code implementations, you need to finalize your work by exporting the iPython Notebook as an HTML document. Before exporting the notebook to html, all of the code cells need to have been run so that reviewers can see the final implementation and output. You can then export the notebook by using the menu above and navigating to  \\n\",\n",
    "    \"**File -> Download as -> HTML (.html)**. Include the finished document along with this notebook as your submission. \n",
    "\n",
    "In addition to implementing code, there is a writeup to complete. The writeup should be completed in a separate file, which can be either a markdown file or a pdf document. There is a [write up template](https://github.com/udacity/CarND-Traffic-Sign-Classifier-Project/blob/master/writeup_template.md) that can be used to guide the writing process. Completing the code template and writeup template will cover all of the [rubric points](https://review.udacity.com/#!/rubrics/481/view) for this project.\n",
    "\n",
    "The [rubric](https://review.udacity.com/#!/rubrics/481/view) contains \"Stand Out Suggestions\" for enhancing the project beyond the minimum requirements. The stand out suggestions are optional. If you decide to pursue the \"stand out suggestions\", you can include the code in this Ipython notebook and also discuss the results in the writeup file.\n",
    "\n",
    "\n",
    ">**Note:** Code and Markdown cells can be executed using the **Shift + Enter** keyboard shortcut. In addition, Markdown cells can be edited by typically double-clicking the cell to enter edit mode."
   ]
  },
  {
   "cell_type": "markdown",
   "metadata": {},
   "source": [
    "---\n",
    "## Step 0: Load The Data"
   ]
  },
  {
   "cell_type": "code",
   "execution_count": 1,
   "metadata": {},
   "outputs": [],
   "source": [
    "# Load pickled data\n",
    "import pickle\n",
    "import numpy as np\n",
    "from sklearn.utils import shuffle\n",
    "import random\n",
    "import matplotlib.pyplot as plt\n",
    "# Visualizations will be shown in the notebook.\n",
    "%matplotlib inline\n",
    "from sklearn.model_selection import train_test_split\n",
    "\n"
   ]
  },
  {
   "cell_type": "code",
   "execution_count": 2,
   "metadata": {},
   "outputs": [
    {
     "name": "stdout",
     "output_type": "stream",
     "text": [
      "Train shapes X.shape (34799, 32, 32, 3), y.shape (34799,)\n",
      "test shapes X.shape (12630, 32, 32, 3), y.shape (12630,)\n"
     ]
    }
   ],
   "source": [
    "# Load pickled data\n",
    "# TODO: Fill this in based on where you saved the training and testing data\n",
    "\n",
    "training_file = \"train.p\"\n",
    "testing_file =  \"test.p\"\n",
    "\n",
    "with open(training_file, mode='rb') as f:\n",
    "    train = pickle.load(f)\n",
    "    \n",
    "with open(testing_file, mode='rb') as f:\n",
    "    test = pickle.load(f)\n",
    "\n",
    "#1. Append the data sets of training and validation; then shuffle and separate training and validation sets\n",
    "#X_train_valid, y_train_valid = np.append(train['features'], valid['features'], axis = 0), np.append(train['labels'], valid['labels'])\n",
    "\n",
    "X_train_valid, y_train_valid = train['features'], train['labels']\n",
    "\n",
    "\n",
    "print (\"Train shapes X.shape {}, y.shape {}\".format(X_train_valid.shape, y_train_valid.shape))\n",
    "\n",
    "\n",
    "#3. Split the training between training and validation before training and validation\n",
    "\n",
    "\n",
    "X_test, y_test = test['features'], test['labels']\n",
    "print (\"test shapes X.shape {}, y.shape {}\".format(X_test.shape, y_test.shape))\n"
   ]
  },
  {
   "cell_type": "markdown",
   "metadata": {},
   "source": [
    "---\n",
    "\n",
    "## Step 1: Dataset Summary & Exploration\n",
    "\n",
    "The pickled data is a dictionary with 4 key/value pairs:\n",
    "\n",
    "- `'features'` is a 4D array containing raw pixel data of the traffic sign images, (num examples, width, height, channels).\n",
    "- `'labels'` is a 1D array containing the label/class id of the traffic sign. The file `signnames.csv` contains id -> name mappings for each id.\n",
    "- `'sizes'` is a list containing tuples, (width, height) representing the original width and height the image.\n",
    "- `'coords'` is a list containing tuples, (x1, y1, x2, y2) representing coordinates of a bounding box around the sign in the image. **THESE COORDINATES ASSUME THE ORIGINAL IMAGE. THE PICKLED DATA CONTAINS RESIZED VERSIONS (32 by 32) OF THESE IMAGES**\n",
    "\n",
    "Complete the basic data summary below. Use python, numpy and/or pandas methods to calculate the data summary rather than hard coding the results. For example, the [pandas shape method](http://pandas.pydata.org/pandas-docs/stable/generated/pandas.DataFrame.shape.html) might be useful for calculating some of the summary results. "
   ]
  },
  {
   "cell_type": "markdown",
   "metadata": {},
   "source": [
    "### Provide a Basic Summary of the Data Set Using Python, Numpy and/or Pandas"
   ]
  },
  {
   "cell_type": "code",
   "execution_count": 3,
   "metadata": {},
   "outputs": [
    {
     "name": "stdout",
     "output_type": "stream",
     "text": [
      "Number of training + validation examples = 34799\n",
      "Number of testing examples = 12630\n",
      "Image data shape = (34799, 32, 32, 3)\n",
      "Number of classes = 43\n"
     ]
    }
   ],
   "source": [
    "### Replace each question mark with the appropriate value. \n",
    "### Use python, pandas or numpy methods rather than hard coding the results\n",
    "\n",
    "# TODO: Number of training examples\n",
    "n_train_valid = X_train_valid.shape[0]\n",
    "\n",
    "# TODO: Number of testing examples.\n",
    "n_test = X_test.shape[0]\n",
    "\n",
    "# TODO: What's the shape of an traffic sign image?\n",
    "image_shape = X_train_valid.shape\n",
    "\n",
    "# TODO: How many unique classes/labels there are in the dataset.\n",
    "unique_classes, unique_indices, train_valid_class_counts = np.unique(y_train_valid, return_index = True, return_counts = True)\n",
    "n_classes = train_valid_class_counts.shape[0]\n",
    "print(\"Number of training + validation examples =\", n_train_valid)\n",
    "print(\"Number of testing examples =\", n_test)\n",
    "\n",
    "print(\"Image data shape =\", image_shape)\n",
    "print(\"Number of classes = {}\".format(n_classes))\n",
    "\n",
    "\n"
   ]
  },
  {
   "cell_type": "markdown",
   "metadata": {},
   "source": [
    "### Include an exploratory visualization of the dataset"
   ]
  },
  {
   "cell_type": "markdown",
   "metadata": {},
   "source": [
    "Visualize the German Traffic Signs Dataset using the pickled file(s). This is open ended, suggestions include: plotting traffic sign images, plotting the count of each sign, etc. \n",
    "\n",
    "The [Matplotlib](http://matplotlib.org/) [examples](http://matplotlib.org/examples/index.html) and [gallery](http://matplotlib.org/gallery.html) pages are a great resource for doing visualizations in Python.\n",
    "\n",
    "**NOTE:** It's recommended you start with something simple first. If you wish to do more, come back to it after you've completed the rest of the sections. It can be interesting to look at the distribution of classes in the training, validation and test set. Is the distribution the same? Are there more examples of some classes than others?"
   ]
  },
  {
   "cell_type": "code",
   "execution_count": 4,
   "metadata": {
    "scrolled": true
   },
   "outputs": [
    {
     "name": "stdout",
     "output_type": "stream",
     "text": [
      "9\n"
     ]
    },
    {
     "data": {
      "image/png": "[encoded data removed]",
      "text/plain": [
       "<matplotlib.figure.Figure at 0x19358d97908>"
      ]
     },
     "metadata": {},
     "output_type": "display_data"
    }
   ],
   "source": [
    "### Data exploration visualization code goes here.\n",
    "### Feel free to use as many code cells as needed.\n",
    "\n",
    "\n",
    "index = random.randint(0, len(X_train_valid))\n",
    "image = X_train_valid[index].squeeze()\n",
    "\n",
    "plt.figure(figsize=(5,5))\n",
    "plt.imshow(image)\n",
    "print(y_train_valid[index])"
   ]
  },
  {
   "cell_type": "markdown",
   "metadata": {},
   "source": [
    "#### Plot Training Classes distribution\n",
    "To get a view"
   ]
  },
  {
   "cell_type": "code",
   "execution_count": 5,
   "metadata": {},
   "outputs": [
    {
     "data": {
      "image/png": "[encoded data removed]",
      "text/plain": [
       "<matplotlib.figure.Figure at 0x1935ae6cac8>"
      ]
     },
     "metadata": {},
     "output_type": "display_data"
    }
   ],
   "source": [
    "#komer - get a stock / distribution of data i.e. training examples.\n",
    "plt.bar( np.arange(n_classes), train_valid_class_counts, align='center' )\n",
    "plt.xlabel('Sign Class')\n",
    "plt.ylabel('# of training examples')\n",
    "plt.xlim([-1, n_classes])\n",
    "plt.show()\n"
   ]
  },
  {
   "cell_type": "markdown",
   "metadata": {},
   "source": [
    "#### Plot test example distribution\n",
    "To get a view"
   ]
  },
  {
   "cell_type": "code",
   "execution_count": 6,
   "metadata": {},
   "outputs": [
    {
     "data": {
      "image/png": "[encoded data removed]",
      "text/plain": [
       "<matplotlib.figure.Figure at 0x19358d97438>"
      ]
     },
     "metadata": {},
     "output_type": "display_data"
    }
   ],
   "source": [
    "\n",
    "#komer - get a stock / distribution of data i.e. training examples.\n",
    "# TODO: How many unique classes/labels there are in the dataset.\n",
    "unique_classes, unique_indices, test_class_counts = np.unique(y_test, return_index = True, return_counts = True)\n",
    "n_test_classes = test_class_counts.shape[0]\n",
    "\n",
    "plt.bar( np.arange(test_class_counts.shape[0]), test_class_counts, align='center' )\n",
    "plt.xlabel('Sign Class')\n",
    "plt.ylabel('# of test examples')\n",
    "plt.xlim([-1, test_class_counts.shape[0]])\n",
    "plt.show()\n"
   ]
  },
  {
   "cell_type": "markdown",
   "metadata": {},
   "source": [
    "----\n",
    "\n",
    "## Step 2: Design and Test a Model Architecture\n",
    "\n",
    "Design and implement a deep learning model that learns to recognize traffic signs. Train and test your model on the [German Traffic Sign Dataset](http://benchmark.ini.rub.de/?section=gtsrb&subsection=dataset).\n",
    "\n",
    "The LeNet-5 implementation shown in the [classroom](https://classroom.udacity.com/nanodegrees/nd013/parts/fbf77062-5703-404e-b60c-95b78b2f3f9e/modules/6df7ae49-c61c-4bb2-a23e-6527e69209ec/lessons/601ae704-1035-4287-8b11-e2c2716217ad/concepts/d4aca031-508f-4e0b-b493-e7b706120f81) at the end of the CNN lesson is a solid starting point. You'll have to change the number of classes and possibly the preprocessing, but aside from that it's plug and play! \n",
    "\n",
    "With the LeNet-5 solution from the lecture, you should expect a validation set accuracy of about 0.89. To meet specifications, the validation set accuracy will need to be at least 0.93. It is possible to get an even higher accuracy, but 0.93 is the minimum for a successful project submission. \n",
    "\n",
    "There are various aspects to consider when thinking about this problem:\n",
    "\n",
    "- Neural network architecture (is the network over or underfitting?)\n",
    "- Play around preprocessing techniques (normalization, rgb to grayscale, etc)\n",
    "- Number of examples per label (some have more than others).\n",
    "- Generate fake data.\n",
    "\n",
    "Here is an example of a [published baseline model on this problem](http://yann.lecun.com/exdb/publis/pdf/sermanet-ijcnn-11.pdf). It's not required to be familiar with the approach used in the paper but, it's good practice to try to read papers like these."
   ]
  },
  {
   "cell_type": "markdown",
   "metadata": {},
   "source": [
    "### Pre-process the Data Set (normalization, grayscale, etc.)"
   ]
  },
  {
   "cell_type": "markdown",
   "metadata": {},
   "source": [
    "Minimally, the image data should be normalized so that the data has mean zero and equal variance. For image data, `(pixel - 128)/ 128` is a quick way to approximately normalize the data and can be used in this project. \n",
    "\n",
    "Other pre-processing steps are optional. You can try different techniques to see if it improves performance. \n",
    "\n",
    "Use the code cell (or multiple code cells, if necessary) to implement the first step of your project."
   ]
  },
  {
   "cell_type": "code",
   "execution_count": 7,
   "metadata": {},
   "outputs": [
    {
     "name": "stdout",
     "output_type": "stream",
     "text": [
      "Shapes train (27839, 32, 32, 3), valid (6960, 32, 32, 3)\n"
     ]
    }
   ],
   "source": [
    "### Preprocess the data here. It is required to normalize the data. Other preprocessing steps could include \n",
    "### converting to grayscale, etc.\n",
    "### Feel free to use as many code cells as needed.\n",
    "\n",
    "## use gaussian blur\n",
    "# Problem 1 - Implement Min-Max scaling for grayscale image data\n",
    "\n",
    "from skimage.color import rgb2gray\n",
    "def pre_process(image):\n",
    "    \"\"\"\n",
    "    Normalize the image data with Min-Max scaling to a range of [0.1, 0.9]\n",
    "    :param image_data: The image data to be normalized\n",
    "    :return: Normalized image data\n",
    "    \"\"\"\n",
    "    # komer: Implement Min-Max scaling for grayscale image data\n",
    "    a = 0.1\n",
    "    b = 0.9\n",
    "    x_min = 0.\n",
    "    x_max = 255.\n",
    "    \n",
    "    # image_data = rgb2gray (image)\n",
    "    # image_data = image_data.reshape(image_data.shape + (1,))\n",
    "    image_data = image\n",
    "    image_normal = a + ((image_data - x_min) * (b - a)) / (x_max - x_min)\n",
    "    return image_normal\n",
    "\n",
    "#convert images to gray_scale\n",
    "\n",
    "\n",
    "X_train_valid = pre_process (X_train_valid)\n",
    "X_test = pre_process  (X_test)\n",
    "\n",
    "#shuffle again just in case\n",
    "X_train_valid, y_train_valid = shuffle(X_train_valid, y_train_valid)\n",
    "\n",
    "X_train, X_valid, y_train, y_valid = train_test_split(X_train_valid, y_train_valid, test_size=0.20, random_state=77)\n",
    "print (\"Shapes train {}, valid {}\".format(X_train.shape, X_valid.shape))\n",
    "\n",
    "n_channels = X_train_valid.shape[3]\n"
   ]
  },
  {
   "cell_type": "markdown",
   "metadata": {},
   "source": [
    "### Model Architecture"
   ]
  },
  {
   "cell_type": "code",
   "execution_count": 8,
   "metadata": {},
   "outputs": [
    {
     "name": "stderr",
     "output_type": "stream",
     "text": [
      "C:\\Users\\pooda_000\\AppData\\Local\\conda\\conda\\envs\\carnd-term1\\lib\\site-packages\\h5py\\__init__.py:36: FutureWarning: Conversion of the second argument of issubdtype from `float` to `np.floating` is deprecated. In future, it will be treated as `np.float64 == np.dtype(float).type`.\n",
      "  from ._conv import register_converters as _register_converters\n"
     ]
    }
   ],
   "source": [
    "### Define your architecture here.\n",
    "### Feel free to use as many code cells as needed.\n",
    "### Komer's architecture based on LeNet Assgnment \n",
    "from tensorflow.contrib.layers import flatten\n",
    "\n",
    "# for tracking the layers for visualization\n",
    "tf_activations = {}\n",
    "\n",
    "def LeNet(x, keep_prob):    \n",
    "    # Arguments used for tf.truncated_normal, randomly defines variables for the weights and biases for each layer\n",
    "    mu = 0\n",
    "    sigma = 0.1\n",
    "    n_img_channels = n_channels  # must be aligned with image input\n",
    "\n",
    "    #initialize network layer dimensions - features and nodes\n",
    "    n_c1_features = 32 #16\n",
    "    n_c2_features = 64 #32\n",
    "    n_fc3_nodes = 128    \n",
    "    n_fc4_nodes = 64\n",
    "\n",
    "    #initialize network layer dimensions - kernel sizes\n",
    "    n_c1_kernel = 5\n",
    "    n_c2_kernel = 5\n",
    " \n",
    "    # TODO: Layer 1: Convolutional. Input = 32x32x3. Output = 28x28x16.\n",
    "\n",
    "    conv1_weights = tf.Variable(tf.truncated_normal(shape=(n_c1_kernel, n_c1_kernel, n_img_channels, n_c1_features), mean = mu, stddev = sigma))\n",
    "    conv1_biases =  tf.Variable(tf.zeros(n_c1_features))\n",
    "    conv1_linear = tf.nn.conv2d(x, conv1_weights, strides=[1, 1, 1, 1], padding='VALID') + conv1_biases\n",
    "\n",
    "    # TODO: Activation. # chose ReLU\n",
    "    conv1_relu = tf.nn.relu(conv1_linear, \"conv1_relu\")\n",
    "    conv1_relu = tf.nn.dropout(conv1_relu, keep_prob)\n",
    "    print (\"conv1 shape {}\".format(conv1_relu.get_shape()))\n",
    "    \n",
    "    tf_activations ['conv1_relu'] = conv1_relu\n",
    "    # TODO: Pooling. Input = 28x28xn_c1_features. Output = 14x14xn_c1_features. #choose maximum  and experiment with average as well\n",
    "    pool1 = tf.nn.max_pool(conv1_relu, ksize=[1, 2, 2, 1], strides=[1, 2, 2, 1], padding='VALID')\n",
    "\n",
    "    print (\"pool1 shape {}\".format(pool1.get_shape()))\n",
    "\n",
    "    # TODO: Layer 2: Convolutional. Output = 10x10xn_c2_features\n",
    "    conv2_weights = tf.Variable(tf.truncated_normal(shape=(n_c2_kernel, n_c2_kernel, n_c1_features, n_c2_features), mean = mu, stddev = sigma))\n",
    "    conv2_biases =  tf.Variable(tf.zeros(n_c2_features))\n",
    "    conv2_linear = tf.nn.conv2d(pool1, conv2_weights, strides=[1, 1, 1, 1], padding='VALID') + conv2_biases\n",
    "    \n",
    "    # TODO: Activation.\n",
    "    conv2_relu = tf.nn.relu(conv2_linear, \"conv2_relu\")\n",
    "    tf_activations ['conv2_relu'] = conv2_relu\n",
    "\n",
    "    conv2_relu = tf.nn.dropout(conv2_relu, keep_prob)\n",
    "\n",
    "    print (\"conv2 shape {}\".format(conv2_relu.get_shape()))\n",
    "\n",
    "\n",
    "    # TODO: Pooling. Input = 10x10xn_c2_features. Output = 5x5xn_c2_features.\n",
    "    pool2 = tf.nn.max_pool(conv2_relu, ksize=[1, 2, 2, 1], strides=[1, 2, 2, 1], padding='VALID')\n",
    "    print (\"pool2 shape {}\".format(pool2.get_shape()))\n",
    "    \n",
    "    # TODO: Flatten. Input = 5x5xn_c2_features. Output \n",
    "    \n",
    "    flat_pool2 = flatten(pool2)\n",
    "    print(\"flat_pool2 shape {}\".format(flat_pool2.get_shape()))\n",
    "    n_fl_nodes = 5*5*n_c2_features\n",
    "    \n",
    "    # TODO: Layer 3: Fully Connected. Input = 800. Output = 128.\n",
    "    fc3_weights = tf.Variable(tf.truncated_normal(shape=(n_fl_nodes, n_fc3_nodes), mean = mu, stddev = sigma))\n",
    "    fc3_biases =  tf.Variable(tf.zeros(n_fc3_nodes))\n",
    "    fc3_linear = tf.matmul(flat_pool2, fc3_weights) + fc3_biases\n",
    "\n",
    "    # TODO: Activation.\n",
    "    fc3_relu = tf.nn.relu(fc3_linear, \"fc3_relu\")\n",
    "    fc3_relu = tf.nn.dropout(fc3_relu, keep_prob)\n",
    "    \n",
    "    tf_activations ['fc3_relu'] = fc3_relu\n",
    "\n",
    "    print(\"fc3 shape {}\".format(fc3_relu.get_shape()))\n",
    "\n",
    "    # TODO: Layer 4: Fully Connected. Input = 128. Output = 64; \n",
    "    fc4_weights = tf.Variable(tf.truncated_normal(shape=(n_fc3_nodes, n_fc4_nodes), mean = mu, stddev = sigma))\n",
    "    fc4_biases =  tf.Variable(tf.zeros(n_fc4_nodes))\n",
    "    fc4_linear = tf.matmul(fc3_relu, fc4_weights) + fc4_biases\n",
    " \n",
    "    \n",
    "\n",
    "    # TODO: Activation.\n",
    "    fc4_relu = tf.nn.relu(fc4_linear, \"fc4_relu\")\n",
    "    fc4_relu = tf.nn.dropout(fc4_relu, keep_prob)\n",
    "    print(\"fc4 shape {}\".format(fc4_relu.get_shape()))\n",
    "    tf_activations ['fc4_relu'] = fc4_relu\n",
    "\n",
    "    # TODO: Layer 5: Fully Connected. Input = n_fc4_nodes. Output = n_classes\n",
    "    fc5_weights = tf.Variable(tf.truncated_normal(shape=(n_fc4_nodes, n_classes), mean = mu, stddev = sigma))\n",
    "    fc5_biases =  tf.Variable(tf.zeros(n_classes))\n",
    "    logits = tf.matmul(fc4_relu, fc5_weights) + fc5_biases\n",
    "    print(\"logits shape {}\".format(logits.get_shape()))\n",
    "    \n",
    "    return logits\n"
   ]
  },
  {
   "cell_type": "markdown",
   "metadata": {},
   "source": [
    "## Features and Labels\n",
    "Train LeNet to classify Traffic signs data.\n",
    "\n",
    "`x` is a placeholder for a batch of input images.\n",
    "`y` is a placeholder for a batch of output labels."
   ]
  },
  {
   "cell_type": "code",
   "execution_count": 9,
   "metadata": {},
   "outputs": [],
   "source": [
    "import tensorflow as tf\n",
    "x = tf.placeholder(tf.float32, (None, 32, 32, n_channels))  # color image inputs with 3 (R, G, B) channels\n",
    "y = tf.placeholder(tf.int32, (None))\n",
    "keep_prob = tf.placeholder(tf.float32)\n",
    "\n",
    "one_hot_y = tf.one_hot(y, n_classes)"
   ]
  },
  {
   "cell_type": "markdown",
   "metadata": {},
   "source": [
    "## Training Pipeline"
   ]
  },
  {
   "cell_type": "markdown",
   "metadata": {},
   "source": [
    "A validation set can be used to assess how well the model is performing. A low accuracy on the training and validation\n",
    "sets imply underfitting. A high accuracy on the training set but low accuracy on the validation set implies overfitting."
   ]
  },
  {
   "cell_type": "markdown",
   "metadata": {},
   "source": [
    "### Setup TensorFlow\n",
    "The hyper parameters `EPOCH`, `BATCH_SIZE` and 'LEARN_RATE' values affect the training speed and model accuracy.\n"
   ]
  },
  {
   "cell_type": "code",
   "execution_count": 10,
   "metadata": {},
   "outputs": [],
   "source": [
    "### Important hyper parameters\n",
    "\n",
    "EPOCHS = 20 #32\n",
    "LEARN_RATE = 0.001 #0.001\n",
    "BATCH_SIZE = 128 #128\n",
    "KEEP_PROB = 0.70"
   ]
  },
  {
   "cell_type": "code",
   "execution_count": 11,
   "metadata": {},
   "outputs": [
    {
     "name": "stdout",
     "output_type": "stream",
     "text": [
      "conv1 shape (?, 28, 28, 32)\n",
      "pool1 shape (?, 14, 14, 32)\n",
      "conv2 shape (?, 10, 10, 64)\n",
      "pool2 shape (?, 5, 5, 64)\n",
      "flat_pool2 shape (?, 1600)\n",
      "fc3 shape (?, 128)\n",
      "fc4 shape (?, 64)\n",
      "logits shape (?, 43)\n"
     ]
    }
   ],
   "source": [
    "### set-up model operations\n",
    "\n",
    "logits = LeNet(x, keep_prob)\n",
    "cross_entropy = tf.nn.softmax_cross_entropy_with_logits(labels=one_hot_y, logits=logits)\n",
    "loss_operation = tf.reduce_mean(cross_entropy)\n",
    "optimizer = tf.train.AdamOptimizer(learning_rate = LEARN_RATE)\n",
    "training_operation = optimizer.minimize(loss_operation)"
   ]
  },
  {
   "cell_type": "markdown",
   "metadata": {},
   "source": [
    "## Model Evaluation\n",
    "Evaluate how well the loss and accuracy of the model for a given dataset."
   ]
  },
  {
   "cell_type": "code",
   "execution_count": 12,
   "metadata": {},
   "outputs": [],
   "source": [
    "correct_prediction = tf.equal(tf.argmax(logits, 1), tf.argmax(one_hot_y, 1))\n",
    "accuracy_operation = tf.reduce_mean(tf.cast(correct_prediction, tf.float32))\n",
    "saver = tf.train.Saver()\n",
    "\n",
    "def evaluate(X_data, y_data):\n",
    "    num_examples = len(X_data)\n",
    "    total_accuracy = 0\n",
    "    sess = tf.get_default_session()\n",
    "    for offset in range(0, num_examples, BATCH_SIZE):\n",
    "        batch_x, batch_y = X_data[offset:offset+BATCH_SIZE], y_data[offset:offset+BATCH_SIZE]\n",
    "        accuracy = sess.run(accuracy_operation, feed_dict={x: batch_x, y: batch_y, keep_prob: 1.0}) #ensure keep_prob = 1.0\n",
    "        total_accuracy += (accuracy * len(batch_x))\n",
    "    return total_accuracy / num_examples\n",
    "\n",
    "soft_max = tf.nn.softmax(logits)\n",
    "def predict(X_data):\n",
    "#def predict(X_data, y_data):\n",
    "    sess = tf.get_default_session()\n",
    "    #soft_mx = sess.run(soft_max, feed_dict={x: X_data, y: y_data, keep_prob: 1.0}) #ensure keep_prob = 1.0\n",
    "    soft_mx = sess.run(soft_max, feed_dict={x: X_data, keep_prob: 1.0}) #ensure keep_prob = 1.0\n",
    "    return soft_mx"
   ]
  },
  {
   "cell_type": "markdown",
   "metadata": {},
   "source": [
    "## Train the Model\n",
    "Run the training data through the training pipeline to train the model.\n",
    "\n",
    "Before each epoch, shuffle the training set.\n",
    "\n",
    "After each epoch, measure the loss and accuracy of the validation set.\n",
    "\n",
    "Save the model after training."
   ]
  },
  {
   "cell_type": "code",
   "execution_count": 13,
   "metadata": {},
   "outputs": [
    {
     "name": "stdout",
     "output_type": "stream",
     "text": [
      "Training...\n",
      "\n",
      "EPOCH 1 ...\n",
      "Validation Accuracy = 0.653\n",
      "\n",
      "EPOCH 2 ...\n",
      "Validation Accuracy = 0.881\n",
      "\n",
      "EPOCH 3 ...\n",
      "Validation Accuracy = 0.939\n",
      "\n",
      "EPOCH 4 ...\n",
      "Validation Accuracy = 0.956\n",
      "\n",
      "EPOCH 5 ...\n",
      "Validation Accuracy = 0.966\n",
      "\n",
      "EPOCH 6 ...\n",
      "Validation Accuracy = 0.980\n",
      "\n",
      "EPOCH 7 ...\n",
      "Validation Accuracy = 0.979\n",
      "\n",
      "EPOCH 8 ...\n",
      "Validation Accuracy = 0.985\n",
      "\n",
      "EPOCH 9 ...\n",
      "Validation Accuracy = 0.989\n",
      "\n",
      "EPOCH 10 ...\n",
      "Validation Accuracy = 0.986\n",
      "\n",
      "EPOCH 11 ...\n",
      "Validation Accuracy = 0.991\n",
      "\n",
      "EPOCH 12 ...\n",
      "Validation Accuracy = 0.990\n",
      "\n",
      "EPOCH 13 ...\n",
      "Validation Accuracy = 0.992\n",
      "\n",
      "EPOCH 14 ...\n",
      "Validation Accuracy = 0.992\n",
      "\n",
      "EPOCH 15 ...\n",
      "Validation Accuracy = 0.990\n",
      "\n",
      "EPOCH 16 ...\n",
      "Validation Accuracy = 0.993\n",
      "\n",
      "EPOCH 17 ...\n",
      "Validation Accuracy = 0.994\n",
      "\n",
      "EPOCH 18 ...\n",
      "Validation Accuracy = 0.993\n",
      "\n",
      "EPOCH 19 ...\n",
      "Validation Accuracy = 0.994\n",
      "\n",
      "EPOCH 20 ...\n",
      "Validation Accuracy = 0.994\n",
      "\n",
      "Model saved\n"
     ]
    }
   ],
   "source": [
    "\n",
    "\n",
    "with tf.Session() as sess:\n",
    "    sess.run(tf.global_variables_initializer())\n",
    "    num_examples = len(X_train)\n",
    "    \n",
    "    print(\"Training...\")\n",
    "    print()\n",
    "    for i in range(EPOCHS):\n",
    "        X_train, y_train = shuffle(X_train, y_train)\n",
    "        for offset in range(0, num_examples, BATCH_SIZE):\n",
    "            end = offset + BATCH_SIZE\n",
    "            batch_x, batch_y = X_train[offset:end], y_train[offset:end]\n",
    "            sess.run(training_operation, feed_dict={x: batch_x, y: batch_y, keep_prob: KEEP_PROB})\n",
    "            \n",
    "        validation_accuracy = evaluate(X_valid, y_valid)\n",
    "        print(\"EPOCH {} ...\".format(i+1))\n",
    "        print(\"Validation Accuracy = {:.3f}\".format(validation_accuracy))\n",
    "        print()\n",
    "    \n",
    "    saver.save(sess, './model')\n",
    "    print(\"Model saved\")"
   ]
  },
  {
   "cell_type": "markdown",
   "metadata": {},
   "source": [
    "###  Test on Test Set"
   ]
  },
  {
   "cell_type": "code",
   "execution_count": 14,
   "metadata": {},
   "outputs": [
    {
     "name": "stdout",
     "output_type": "stream",
     "text": [
      "INFO:tensorflow:Restoring parameters from ./model\n",
      "Model restored.\n",
      "Test Accuracy = 0.950\n",
      "\n"
     ]
    }
   ],
   "source": [
    "#load the model\n",
    "saver = tf.train.Saver()\n",
    "with tf.Session() as sess:\n",
    "    # Restore model from disk.\n",
    "    saver.restore(sess, \"./model\")\n",
    "    print(\"Model restored.\")\n",
    "    \n",
    "    test_accuracy = evaluate(X_test, y_test)\n",
    "    print(\"Test Accuracy = {:.3f}\".format(test_accuracy))\n",
    "    print()"
   ]
  },
  {
   "cell_type": "code",
   "execution_count": 15,
   "metadata": {},
   "outputs": [],
   "source": [
    "#signames csv helper functions\n",
    "import csv\n",
    "#open the signature file for prediction description\n",
    "sigfile = open('signnames.csv')\n",
    "classdesc = csv.reader(sigfile, delimiter=',')\n",
    "\n",
    "signatures = {}\n",
    "for row in classdesc:\n",
    "    signatures [row[0]] = row[1]\n",
    "#print (signatures)"
   ]
  },
  {
   "cell_type": "code",
   "execution_count": 16,
   "metadata": {},
   "outputs": [],
   "source": [
    "# get the description of the class\n",
    "def get_class_desc(cls_id):\n",
    "    if cls_id > n_classes:\n",
    "        return None\n",
    "    else:\n",
    "        return (signatures[str(cls_id)])\n",
    "\n",
    "#plot the image\n",
    "def plot_image(img):\n",
    "    plt.imshow (img)\n",
    "    plt.show()"
   ]
  },
  {
   "cell_type": "markdown",
   "metadata": {},
   "source": [
    "\n",
    "## Step 3: Test a Model on New Images (Taken from web)\n",
    "\n",
    "To give yourself more insight into how your model is working, download at least five pictures of German traffic signs from the web and use your model to predict the traffic sign type.\n",
    "\n",
    "You may find `signnames.csv` useful as it contains mappings from the class id (integer) to the actual sign name."
   ]
  },
  {
   "cell_type": "code",
   "execution_count": 17,
   "metadata": {},
   "outputs": [
    {
     "name": "stdout",
     "output_type": "stream",
     "text": [
      "['right-turn.jpg', 'snow.jpg', 'thirty.jpg', 'work.jpg', 'x-entry.jpg']\n"
     ]
    },
    {
     "name": "stderr",
     "output_type": "stream",
     "text": [
      "C:\\Users\\pooda_000\\AppData\\Local\\conda\\conda\\envs\\carnd-term1\\lib\\site-packages\\scipy\\misc\\pilutil.py:482: FutureWarning: Conversion of the second argument of issubdtype from `int` to `np.signedinteger` is deprecated. In future, it will be treated as `np.int32 == np.dtype(int).type`.\n",
      "  if issubdtype(ts, int):\n",
      "C:\\Users\\pooda_000\\AppData\\Local\\conda\\conda\\envs\\carnd-term1\\lib\\site-packages\\scipy\\misc\\pilutil.py:485: FutureWarning: Conversion of the second argument of issubdtype from `float` to `np.floating` is deprecated. In future, it will be treated as `np.float64 == np.dtype(float).type`.\n",
      "  elif issubdtype(type(size), float):\n"
     ]
    },
    {
     "data": {
      "image/png": "[encoded data removed]",
      "text/plain": [
       "<matplotlib.figure.Figure at 0x19365ec2470>"
      ]
     },
     "metadata": {},
     "output_type": "display_data"
    },
    {
     "name": "stdout",
     "output_type": "stream",
     "text": [
      "image: ./images/right-turn.jpg\n",
      "\n"
     ]
    },
    {
     "data": {
      "image/png": "[encoded data removed]",
      "text/plain": [
       "<matplotlib.figure.Figure at 0x1935b06cf98>"
      ]
     },
     "metadata": {},
     "output_type": "display_data"
    },
    {
     "name": "stdout",
     "output_type": "stream",
     "text": [
      "image: ./images/snow.jpg\n",
      "\n"
     ]
    },
    {
     "data": {
      "image/png": "[encoded data removed]",
      "text/plain": [
       "<matplotlib.figure.Figure at 0x1935b075f98>"
      ]
     },
     "metadata": {},
     "output_type": "display_data"
    },
    {
     "name": "stdout",
     "output_type": "stream",
     "text": [
      "image: ./images/thirty.jpg\n",
      "\n"
     ]
    },
    {
     "data": {
      "image/png": "[encoded data removed]",
      "text/plain": [
       "<matplotlib.figure.Figure at 0x1939968ada0>"
      ]
     },
     "metadata": {},
     "output_type": "display_data"
    },
    {
     "name": "stdout",
     "output_type": "stream",
     "text": [
      "image: ./images/work.jpg\n",
      "\n"
     ]
    },
    {
     "data": {
      "image/png": "[encoded data removed]",
      "text/plain": [
       "<matplotlib.figure.Figure at 0x19365a32d68>"
      ]
     },
     "metadata": {},
     "output_type": "display_data"
    },
    {
     "name": "stdout",
     "output_type": "stream",
     "text": [
      "image: ./images/x-entry.jpg\n",
      "\n"
     ]
    }
   ],
   "source": [
    "import scipy\n",
    "import os\n",
    "\n",
    "#Get the web images, resize and create a pickle file\n",
    "image_dir = \"./images/\"\n",
    "\n",
    "image_name_list =os.listdir(\"./images\")\n",
    "\n",
    "for a_file in image_name_list:\n",
    "    if (a_file.endswith(\".jpg\")) is False:\n",
    "        #delete from the list\n",
    "        image_name_list.remove(a_file)    \n",
    "print(image_name_list)\n",
    "\n",
    "X_t = np.zeros((len(image_name_list),32,32,3), dtype = np.uint8)\n",
    "\n",
    "index = 0\n",
    "for a_file in image_name_list:\n",
    "    fname = image_dir+a_file\n",
    "    image = scipy.misc.imread(fname, flatten=False)\n",
    "    my_image = scipy.misc.imresize(image, size=(32,32))\n",
    "\n",
    "    X_t [index] = my_image\n",
    "    plot_image(X_t[index])  \n",
    "    print(\"image: {}\".format(fname))\n",
    "    print()\n",
    "    index += 1\n",
    "\n",
    "#prior knowledge of images\n",
    "y_t = [38, 30, 1, 25, 17]"
   ]
  },
  {
   "cell_type": "markdown",
   "metadata": {},
   "source": [
    "### Predict the Sign Type for Each Image"
   ]
  },
  {
   "cell_type": "code",
   "execution_count": 18,
   "metadata": {},
   "outputs": [],
   "source": [
    "#pre-process the images\n",
    "X_tt = pre_process(X_t)\n",
    "\n",
    "#one hot encode y_p\n",
    "one_hot_y_t = tf.one_hot(y_t, n_classes)"
   ]
  },
  {
   "cell_type": "code",
   "execution_count": 48,
   "metadata": {},
   "outputs": [
    {
     "name": "stdout",
     "output_type": "stream",
     "text": [
      "(5,)\n",
      "INFO:tensorflow:Restoring parameters from ./model\n"
     ]
    },
    {
     "data": {
      "image/png": "[encoded data removed]",
      "text/plain": [
       "<matplotlib.figure.Figure at 0x193665d47f0>"
      ]
     },
     "metadata": {},
     "output_type": "display_data"
    },
    {
     "name": "stdout",
     "output_type": "stream",
     "text": [
      "Image 0: Successful Prediction!: 38. Keep right\n",
      "\n",
      "\n"
     ]
    },
    {
     "data": {
      "image/png": "[encoded data removed]",
      "text/plain": [
       "<matplotlib.figure.Figure at 0x19365b4a9b0>"
      ]
     },
     "metadata": {},
     "output_type": "display_data"
    },
    {
     "name": "stdout",
     "output_type": "stream",
     "text": [
      "Image 1: Unsuccessful Successful Prediction!: 1. Speed limit (30km/h)\n",
      "\n",
      "\n"
     ]
    },
    {
     "data": {
      "image/png": "[encoded data removed]",
      "text/plain": [
       "<matplotlib.figure.Figure at 0x19365ac8f28>"
      ]
     },
     "metadata": {},
     "output_type": "display_data"
    },
    {
     "name": "stdout",
     "output_type": "stream",
     "text": [
      "Image 2: Successful Prediction!: 1. Speed limit (30km/h)\n",
      "\n",
      "\n"
     ]
    },
    {
     "data": {
      "image/png": "[encoded data removed]",
      "text/plain": [
       "<matplotlib.figure.Figure at 0x19365e545f8>"
      ]
     },
     "metadata": {},
     "output_type": "display_data"
    },
    {
     "name": "stdout",
     "output_type": "stream",
     "text": [
      "Image 3: Successful Prediction!: 25. Road work\n",
      "\n",
      "\n"
     ]
    },
    {
     "data": {
      "image/png": "[encoded data removed]",
      "text/plain": [
       "<matplotlib.figure.Figure at 0x1936667de10>"
      ]
     },
     "metadata": {},
     "output_type": "display_data"
    },
    {
     "name": "stdout",
     "output_type": "stream",
     "text": [
      "Image 4: Successful Prediction!: 17. No entry\n",
      "\n",
      "\n"
     ]
    }
   ],
   "source": [
    "### Run the predictions here and use the model to output the prediction for each image.\n",
    "### Make sure to pre-process the images with the same pre-processing pipeline used earlier.\n",
    "### Feel free to use as many code cells as needed.\n",
    "#load the model\n",
    "\n",
    "successful_prediction = np.zeros((X_t.shape[0]))\n",
    "print(successful_prediction.shape)\n",
    "with tf.Session() as sess:    \n",
    "    # Restore model from disk.\n",
    "    saver.restore(sess, \"./model\")\n",
    "\n",
    "    soft_mx = predict(X_tt)  \n",
    "    label_results = np.argmax(soft_mx, axis = 1)\n",
    "\n",
    "    for indx in range (X_t.shape[0]):\n",
    "        plot_image(X_t[indx])\n",
    "        if (label_results[indx] == y_t[indx]):\n",
    "            successful_prediction[indx] = True\n",
    "            print(\"Image {}: Successful Prediction!: {}. {}\".format(indx, label_results[indx], get_class_desc(label_results[indx])))\n",
    "        else:\n",
    "            print(\"Image {}: Unsuccessful Successful Prediction!: {}. {}\".format(indx, label_results[indx], get_class_desc(label_results[indx])))\n",
    "\n",
    "        print()\n",
    "        print()\n",
    "        "
   ]
  },
  {
   "cell_type": "markdown",
   "metadata": {},
   "source": [
    "### Analyze Performance"
   ]
  },
  {
   "cell_type": "code",
   "execution_count": 49,
   "metadata": {},
   "outputs": [
    {
     "name": "stdout",
     "output_type": "stream",
     "text": [
      "0.8\n"
     ]
    }
   ],
   "source": [
    "### Calculate the accuracy for these 5 new images. \n",
    "### For example, if the model predicted 1 out of 5 signs correctly, it's 20% accurate on these new images.\n",
    "n_correct = np.sum (y_t == label_results)\n",
    "accurate_percent = n_correct / len(label_results)\n",
    "print(accurate_percent)"
   ]
  },
  {
   "cell_type": "markdown",
   "metadata": {},
   "source": [
    "### Output Top 5 Softmax Probabilities For Each Image Found on the Web"
   ]
  },
  {
   "cell_type": "markdown",
   "metadata": {},
   "source": [
    "For each of the new images, print out the model's softmax probabilities to show the **certainty** of the model's predictions (limit the output to the top 5 probabilities for each image). [`tf.nn.top_k`](https://www.tensorflow.org/versions/r0.12/api_docs/python/nn.html#top_k) could prove helpful here. \n",
    "\n",
    "The example below demonstrates how tf.nn.top_k can be used to find the top k predictions for each image.\n",
    "\n",
    "`tf.nn.top_k` will return the values and indices (class ids) of the top k predictions. So if k=3, for each sign, it'll return the 3 largest probabilities (out of a possible 43) and the correspoding class ids.\n",
    "\n",
    "Take this numpy array as an example. The values in the array represent predictions. The array contains softmax probabilities for five candidate images with six possible classes. `tf.nn.top_k` is used to choose the three classes with the highest probability:\n",
    "\n",
    "```\n",
    "# (5, 6) array\n",
    "a = np.array([[ 0.24879643,  0.07032244,  0.12641572,  0.34763842,  0.07893497,\n",
    "         0.12789202],\n",
    "       [ 0.28086119,  0.27569815,  0.08594638,  0.0178669 ,  0.18063401,\n",
    "         0.15899337],\n",
    "       [ 0.26076848,  0.23664738,  0.08020603,  0.07001922,  0.1134371 ,\n",
    "         0.23892179],\n",
    "       [ 0.11943333,  0.29198961,  0.02605103,  0.26234032,  0.1351348 ,\n",
    "         0.16505091],\n",
    "       [ 0.09561176,  0.34396535,  0.0643941 ,  0.16240774,  0.24206137,\n",
    "         0.09155967]])\n",
    "```\n",
    "\n",
    "Running it through `sess.run(tf.nn.top_k(tf.constant(a), k=3))` produces:\n",
    "\n",
    "```\n",
    "TopKV2(values=array([[ 0.34763842,  0.24879643,  0.12789202],\n",
    "       [ 0.28086119,  0.27569815,  0.18063401],\n",
    "       [ 0.26076848,  0.23892179,  0.23664738],\n",
    "       [ 0.29198961,  0.26234032,  0.16505091],\n",
    "       [ 0.34396535,  0.24206137,  0.16240774]]), indices=array([[3, 0, 5],\n",
    "       [0, 1, 4],\n",
    "       [0, 5, 1],\n",
    "       [1, 3, 5],\n",
    "       [1, 4, 3]], dtype=int32))\n",
    "```\n",
    "\n",
    "Looking just at the first row we get `[ 0.34763842,  0.24879643,  0.12789202]`, you can confirm these are the 3 largest probabilities in `a`. You'll also notice `[3, 0, 5]` are the corresponding indices."
   ]
  },
  {
   "cell_type": "code",
   "execution_count": 50,
   "metadata": {},
   "outputs": [
    {
     "name": "stdout",
     "output_type": "stream",
     "text": [
      "soft_mx shape: (5, 43)\n",
      "TopKV2(values=array([[9.99962211e-01, 3.76873031e-05, 7.00325486e-08, 5.13961531e-08,\n",
      "        1.40242857e-08],\n",
      "       [1.80100292e-01, 1.73546225e-01, 1.13991655e-01, 8.11610073e-02,\n",
      "        5.23313060e-02],\n",
      "       [9.94468331e-01, 1.84272171e-03, 1.60415098e-03, 1.58065523e-03,\n",
      "        1.88837163e-04],\n",
      "       [1.00000000e+00, 2.88482328e-11, 8.21066565e-12, 5.46890604e-13,\n",
      "        4.69754498e-13],\n",
      "       [9.99999881e-01, 7.40821733e-08, 1.42474854e-09, 2.43420062e-10,\n",
      "        2.62454143e-12]], dtype=float32), indices=array([[38, 34, 20, 36, 23],\n",
      "       [ 1, 11,  7,  5,  2],\n",
      "       [ 1, 32,  2,  0,  6],\n",
      "       [25, 29, 31, 26, 24],\n",
      "       [17, 14, 29,  0,  1]]))\n"
     ]
    }
   ],
   "source": [
    "### Print out the top five softmax probabilities for the predictions on the German traffic sign images found on the web. \n",
    "### Feel free to use as many code cells as needed.\n",
    "n_TopK = 5\n",
    "print(\"soft_mx shape:\", soft_mx.shape)\n",
    "tf_soft_mx = tf.convert_to_tensor (soft_mx, dtype=tf.float32)\n",
    "with tf.Session() as sess:\n",
    "    topKV = sess.run(tf.nn.top_k(tf.constant(soft_mx), k=n_TopK))\n",
    "    print(topKV)"
   ]
  },
  {
   "cell_type": "markdown",
   "metadata": {},
   "source": [
    "### Plot the soft max histograms\n",
    "Plot the soft max histograms to visulaize how accurate the predicted sign probability is."
   ]
  },
  {
   "cell_type": "code",
   "execution_count": 53,
   "metadata": {},
   "outputs": [
    {
     "name": "stdout",
     "output_type": "stream",
     "text": [
      "[9.9996221e-01 3.7687303e-05 7.0032549e-08 5.1396153e-08 1.4024286e-08]\n",
      "[38 34 20 36 23]\n"
     ]
    },
    {
     "data": {
      "image/png": "[encoded data removed]",
      "text/plain": [
       "<matplotlib.figure.Figure at 0x19365a905c0>"
      ]
     },
     "metadata": {},
     "output_type": "display_data"
    },
    {
     "name": "stdout",
     "output_type": "stream",
     "text": [
      "[0.18010029 0.17354622 0.11399166 0.08116101 0.05233131]\n",
      "[ 1 11  7  5  2]\n"
     ]
    },
    {
     "data": {
      "image/png": "[encoded data removed]",
      "text/plain": [
       "<matplotlib.figure.Figure at 0x193666aa9e8>"
      ]
     },
     "metadata": {},
     "output_type": "display_data"
    },
    {
     "name": "stdout",
     "output_type": "stream",
     "text": [
      "[9.9446833e-01 1.8427217e-03 1.6041510e-03 1.5806552e-03 1.8883716e-04]\n",
      "[ 1 32  2  0  6]\n"
     ]
    },
    {
     "data": {
      "image/png": "[encoded data removed]",
      "text/plain": [
       "<matplotlib.figure.Figure at 0x193666bc668>"
      ]
     },
     "metadata": {},
     "output_type": "display_data"
    },
    {
     "name": "stdout",
     "output_type": "stream",
     "text": [
      "[1.0000000e+00 2.8848233e-11 8.2106657e-12 5.4689060e-13 4.6975450e-13]\n",
      "[25 29 31 26 24]\n"
     ]
    },
    {
     "data": {
      "image/png": "[encoded data removed]",
      "text/plain": [
       "<matplotlib.figure.Figure at 0x19366801978>"
      ]
     },
     "metadata": {},
     "output_type": "display_data"
    },
    {
     "name": "stdout",
     "output_type": "stream",
     "text": [
      "[9.9999988e-01 7.4082173e-08 1.4247485e-09 2.4342006e-10 2.6245414e-12]\n",
      "[17 14 29  0  1]\n"
     ]
    },
    {
     "data": {
      "image/png": "[encoded data removed]",
      "text/plain": [
       "<matplotlib.figure.Figure at 0x1936676f7f0>"
      ]
     },
     "metadata": {},
     "output_type": "display_data"
    }
   ],
   "source": [
    "def plot_histo (values, indices, img_id, b_success):\n",
    "    # values:  value array of top K for a test image\n",
    "    # indices: indices (signature) array of top K for a test image.\n",
    "    # imag_id: image index \n",
    "    # b_success:  True if prediction was successful.\n",
    "    a_range = np.arange(len(indices))  # number of x labels\n",
    "\n",
    "    plt.figure(figsize=(4, 5))\n",
    "    if (b_success == True):\n",
    "        plt.bar(a_range, values, 0.5, color='g')\n",
    "        plt.title('Top {} Softmax Values for Test Image {} preidcted successfully!'.format(len(values), img_id))\n",
    "\n",
    "    else:\n",
    "        plt.bar(a_range, values, 0.5, color='r')\n",
    "        plt.title('Top {} Softmax Values for Test Image {} preidcted unsuccessfully!'.format(len(values), img_id))\n",
    "        \n",
    "    plt.ylabel('Softmax Value')\n",
    "    plt.xlabel('Top Labels')\n",
    "    plt.xticks(a_range, tuple(indices))\n",
    "    plt.show()\n",
    "\n",
    "\n",
    "values, indices = topKV\n",
    "\n",
    "for img_id in range(soft_mx.shape[0]):\n",
    "    print(values[img_id])\n",
    "    print (indices[img_id])\n",
    "\n",
    "    plot_histo(values[img_id], indices [img_id], img_id, successful_prediction[img_id])"
   ]
  },
  {
   "cell_type": "markdown",
   "metadata": {},
   "source": [
    "### Project Writeup\n",
    "\n",
    "Once you have completed the code implementation, document your results in a project writeup using this [template](https://github.com/udacity/CarND-Traffic-Sign-Classifier-Project/blob/master/writeup_template.md) as a guide. The writeup can be in a markdown or pdf file. "
   ]
  },
  {
   "cell_type": "markdown",
   "metadata": {},
   "source": [
    "> **Note**: Once you have completed all of the code implementations and successfully answered each question above, you may finalize your work by exporting the iPython Notebook as an HTML document. You can do this by using the menu above and navigating to  \\n\",\n",
    "    \"**File -> Download as -> HTML (.html)**. Include the finished document along with this notebook as your submission."
   ]
  },
  {
   "cell_type": "markdown",
   "metadata": {},
   "source": [
    "---\n",
    "\n",
    "## Step 4 (Optional): Visualize the Neural Network's State with Test Images\n",
    "\n",
    " This Section is not required to complete but acts as an additional excersise for understaning the output of a neural network's weights. While neural networks can be a great learning device they are often referred to as a black box. We can understand what the weights of a neural network look like better by plotting their feature maps. After successfully training your neural network you can see what it's feature maps look like by plotting the output of the network's weight layers in response to a test stimuli image. From these plotted feature maps, it's possible to see what characteristics of an image the network finds interesting. For a sign, maybe the inner network feature maps react with high activation to the sign's boundary outline or to the contrast in the sign's painted symbol.\n",
    "\n",
    " Provided for you below is the function code that allows you to get the visualization output of any tensorflow weight layer you want. The inputs to the function should be a stimuli image, one used during training or a new one you provided, and then the tensorflow variable name that represents the layer's state during the training process, for instance if you wanted to see what the [LeNet lab's](https://classroom.udacity.com/nanodegrees/nd013/parts/fbf77062-5703-404e-b60c-95b78b2f3f9e/modules/6df7ae49-c61c-4bb2-a23e-6527e69209ec/lessons/601ae704-1035-4287-8b11-e2c2716217ad/concepts/d4aca031-508f-4e0b-b493-e7b706120f81) feature maps looked like for it's second convolutional layer you could enter conv2 as the tf_activation variable.\n",
    "\n",
    "For an example of what feature map outputs look like, check out NVIDIA's results in their paper [End-to-End Deep Learning for Self-Driving Cars](https://devblogs.nvidia.com/parallelforall/deep-learning-self-driving-cars/) in the section Visualization of internal CNN State. NVIDIA was able to show that their network's inner weights had high activations to road boundary lines by comparing feature maps from an image with a clear path to one without. Try experimenting with a similar test to show that your trained network's weights are looking for interesting features, whether it's looking at differences in feature maps from images with or without a sign, or even what feature maps look like in a trained network vs a completely untrained one on the same sign image.\n",
    "\n",
    "<figure>\n",
    " <img src=\"visualize_cnn.png\" width=\"380\" alt=\"Combined Image\" />\n",
    " <figcaption>\n",
    " <p></p> \n",
    " <p style=\"text-align: center;\"> Your output should look something like this (above)</p> \n",
    " </figcaption>\n",
    "</figure>\n",
    " <p></p> \n"
   ]
  },
  {
   "cell_type": "code",
   "execution_count": null,
   "metadata": {},
   "outputs": [],
   "source": [
    "### Visualize your network's feature maps here.\n",
    "### Feel free to use as many code cells as needed.\n",
    "\n",
    "# image_input: the test image being fed into the network to produce the feature maps\n",
    "# tf_activation: should be a tf variable name used during your training procedure that represents the calculated state of a specific weight layer\n",
    "# activation_min/max: can be used to view the activation contrast in more detail, by default matplot sets min and max to the actual min and max values of the output\n",
    "# plt_num: used to plot out multiple different weight feature map sets on the same block, just extend the plt number for each new feature map entry\n",
    "\n",
    "def outputFeatureMap(image_input, tf_activation, activation_min=-1, activation_max=-1 ,plt_num=1):\n",
    "    # Here make sure to preprocess your image_input in a way your network expects\n",
    "    # with size, normalization, ect if needed\n",
    "    # image_input =\n",
    "    # Note: x should be the same name as your network's tensorflow data placeholder variable\n",
    "    # If you get an error tf_activation is not defined it may be having trouble accessing the variable from inside a function\n",
    "    activation = tf_activation.eval(session=sess,feed_dict={x : image_input})\n",
    "    featuremaps = activation.shape[3]\n",
    "    plt.figure(plt_num, figsize=(15,15))\n",
    "    for featuremap in range(featuremaps):\n",
    "        plt.subplot(6,8, featuremap+1) # sets the number of feature maps to show on each row and column\n",
    "        plt.title('FeatureMap ' + str(featuremap)) # displays the feature map number\n",
    "        if activation_min != -1 & activation_max != -1:\n",
    "            plt.imshow(activation[0,:,:, featuremap], interpolation=\"nearest\", vmin =activation_min, vmax=activation_max, cmap=\"gray\")\n",
    "        elif activation_max != -1:\n",
    "            plt.imshow(activation[0,:,:, featuremap], interpolation=\"nearest\", vmax=activation_max, cmap=\"gray\")\n",
    "        elif activation_min !=-1:\n",
    "            plt.imshow(activation[0,:,:, featuremap], interpolation=\"nearest\", vmin=activation_min, cmap=\"gray\")\n",
    "        else:\n",
    "            plt.imshow(activation[0,:,:, featuremap], interpolation=\"nearest\", cmap=\"gray\")"
   ]
  },
  {
   "cell_type": "code",
   "execution_count": null,
   "metadata": {},
   "outputs": [],
   "source": []
  }
 ],
 "metadata": {
  "anaconda-cloud": {},
  "kernelspec": {
   "display_name": "Python 3",
   "language": "python",
   "name": "python3"
  },
  "language_info": {
   "codemirror_mode": {
    "name": "ipython",
    "version": 3
   },
   "file_extension": ".py",
   "mimetype": "text/x-python",
   "name": "python",
   "nbconvert_exporter": "python",
   "pygments_lexer": "ipython3",
   "version": "3.5.2"
  },
  "widgets": {
   "state": {},
   "version": "1.1.2"
  }
 },
 "nbformat": 4,
 "nbformat_minor": 1
}
